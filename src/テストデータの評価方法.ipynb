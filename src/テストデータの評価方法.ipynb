{
 "cells": [
  {
   "cell_type": "markdown",
   "id": "df2a5317",
   "metadata": {},
   "source": [
    "## テストデータの評価方法に関して\n",
    "* confusion matrixに関して\n",
    "→混同行列を強いようして機械学習モデルの正確性を図ると言うもの\n",
    "→2値分類の性能評価をする場合に使用する\n",
    "→これらは状況によって評価するものを変えていく必要がある。例えば、癌であるかどうかを調べる際には取りこぼしを減らしていきたいので「再現率」の指標を重視する必要がある。よって様々な状況により使用する指標というのは変わってくるので適宜評価指標をどれにするのかを考える必要がある。\n",
    "→それぞれの指標でF値を確認する必要がある。各クラスの値のリコールを上げるのは簡単。（なぜなら全てを０と予測するモデルを作成すれば良いことになるから。）\n",
    "→F値は再現率と適合率の調和平均で両方とものスコアが良いとF値も良い。(それぞれのクラスごとにF値は算出する事ができる。)\n",
    "→https://aiacademy.jp/texts/show/?id=34\n",
    "→TP(True positive)：モデルが「Positive」と予想して、実際に「Positive」だった場合\n",
    "→TN(True negative):モデルが「Negative」と予想して、実際に「Negative」だった場合\n",
    "→FP(False positive):モデルが「Positive」と予想したが、実際には「Negative」だった場合\n",
    "→FN(False negative):モデルが「Negative」と予想したが、実際には「Positive」だった場合\n",
    "→https://vector-ium.com/ds-confusion/\n",
    "→https://qiita.com/TsutomuNakamura/items/a1a6a02cb9bb0dcbb37f\n",
    "\n",
    "\n",
    "* ROC,AUCに関して\n",
    "→閾値を変えていってFPR・TPRのデータをプロットしたグラフ\n",
    "→AUCが大きければ大きいほど良い分類がうまくいっている。(ROC曲線の下の部分の面積のことを指している。)\n",
    "→各正解データのクラス内総データ数をもとに計算されるため、クラス間のデータ数の偏りによる影響がないという特徴を持っている。\n",
    "→https://qiita.com/TsutomuNakamura/items/ef963381e5d2768791d4\n",
    "→https://blog.kikagaku.co.jp/roc-auc"
   ]
  },
  {
   "cell_type": "code",
   "execution_count": 1,
   "id": "bc8ccf78",
   "metadata": {},
   "outputs": [],
   "source": [
    "import numpy as np\n",
    "\n",
    "from sklearn.datasets import load_breast_cancer\n",
    "\n",
    "data = load_breast_cancer()\n",
    "\n",
    "X = data.data\n",
    "y = data.target\n",
    "\n",
    "from sklearn.model_selection import ShuffleSplit\n",
    "ss = ShuffleSplit(n_splits=1, \n",
    "                  train_size=0.8, \n",
    "                  test_size=0.2, \n",
    "                  random_state=0)\n",
    "\n",
    "train_index, test_index = next(ss.split(X, y))\n",
    "\n",
    "X_train, X_test = X[train_index], X[test_index]\n",
    "y_train, y_test = y[train_index], y[test_index]"
   ]
  },
  {
   "cell_type": "code",
   "execution_count": 2,
   "id": "1fcb76ff",
   "metadata": {},
   "outputs": [
    {
     "data": {
      "text/plain": [
       "0.956140350877193"
      ]
     },
     "execution_count": 2,
     "metadata": {},
     "output_type": "execute_result"
    }
   ],
   "source": [
    "from sklearn import linear_model\n",
    "clf = linear_model.LogisticRegression(solver='liblinear')\n",
    "# 学習の実施\n",
    "clf.fit(X_train, y_train)\n",
    "# テストスコアの算出\n",
    "clf.score(X_test, y_test)"
   ]
  },
  {
   "cell_type": "code",
   "execution_count": null,
   "id": "833de5b2",
   "metadata": {},
   "outputs": [],
   "source": []
  },
  {
   "cell_type": "markdown",
   "id": "2bd73518",
   "metadata": {},
   "source": [
    "### 混同行列に関して"
   ]
  },
  {
   "cell_type": "code",
   "execution_count": 3,
   "id": "b0076013",
   "metadata": {},
   "outputs": [],
   "source": [
    "# 混同行列の作成\n",
    "y_pred = clf.predict(X_test)\n",
    "conf_mat = np.zeros([2,2])\n",
    "\n",
    "for true_label , est_label in zip(y_test , y_pred):\n",
    "    conf_mat[true_label , est_label] += 1"
   ]
  },
  {
   "cell_type": "code",
   "execution_count": 4,
   "id": "4f3daa50",
   "metadata": {},
   "outputs": [
    {
     "name": "stdout",
     "output_type": "stream",
     "text": [
      "[[46.  1.]\n",
      " [ 4. 63.]]\n"
     ]
    }
   ],
   "source": [
    "# 混同行列の結果\n",
    "print(conf_mat)"
   ]
  },
  {
   "cell_type": "code",
   "execution_count": 7,
   "id": "af9f17a4",
   "metadata": {},
   "outputs": [
    {
     "name": "stdout",
     "output_type": "stream",
     "text": [
      "正解率の算出\n",
      "0.956140350877193\n",
      "\n",
      "混同行列の算出\n",
      "[[46  1]\n",
      " [ 4 63]]\n"
     ]
    }
   ],
   "source": [
    "from sklearn.metrics import accuracy_score\n",
    "from sklearn.metrics import confusion_matrix\n",
    "# 正解率\n",
    "print(\"正解率の算出\")\n",
    "print(accuracy_score(y_test , y_pred))\n",
    "print()\n",
    "print(\"混同行列の算出\")\n",
    "cmat = confusion_matrix(y_test , y_pred)\n",
    "print(confusion_matrix(y_test , y_pred))"
   ]
  },
  {
   "cell_type": "code",
   "execution_count": 8,
   "id": "b33e9633",
   "metadata": {},
   "outputs": [],
   "source": [
    "tp = cmat[0,0]\n",
    "tn = cmat[1,1]\n",
    "fp = cmat[1,0]\n",
    "fn = cmat[0,1]"
   ]
  },
  {
   "cell_type": "code",
   "execution_count": 13,
   "id": "ba9a7d97",
   "metadata": {},
   "outputs": [
    {
     "name": "stdout",
     "output_type": "stream",
     "text": [
      "              precision    recall  f1-score   support\n",
      "\n",
      "           0     0.9200    0.9787    0.9485        47\n",
      "           1     0.9844    0.9403    0.9618        67\n",
      "\n",
      "    accuracy                         0.9561       114\n",
      "   macro avg     0.9522    0.9595    0.9551       114\n",
      "weighted avg     0.9578    0.9561    0.9563       114\n",
      "\n"
     ]
    }
   ],
   "source": [
    "from sklearn.metrics import classification_report\n",
    "# 一気に混同行列の結果を確認したい時\n",
    "print(classification_report(y_test , y_pred , digits = 4))"
   ]
  },
  {
   "cell_type": "code",
   "execution_count": 14,
   "id": "cdd7b0c2",
   "metadata": {},
   "outputs": [
    {
     "data": {
      "text/plain": [
       "0.9787234042553191"
      ]
     },
     "execution_count": 14,
     "metadata": {},
     "output_type": "execute_result"
    }
   ],
   "source": [
    "# 再現率(検出したい箇所のリコールを確認すると良い。今回はクラス０の検出を見たいのでこのような形にしている。)\n",
    "tp / (tp + fn)"
   ]
  },
  {
   "cell_type": "code",
   "execution_count": 16,
   "id": "3df61b87",
   "metadata": {},
   "outputs": [
    {
     "data": {
      "text/plain": [
       "0.92"
      ]
     },
     "execution_count": 16,
     "metadata": {},
     "output_type": "execute_result"
    }
   ],
   "source": [
    "# 精度・適合率(precision)今回はクラス０の検出を見たいのでこのような形にしている。\n",
    "tp / (tp + fp)"
   ]
  },
  {
   "cell_type": "code",
   "execution_count": null,
   "id": "e9ee0e31",
   "metadata": {},
   "outputs": [],
   "source": []
  },
  {
   "cell_type": "markdown",
   "id": "5b189299",
   "metadata": {},
   "source": [
    "## ROC、AUCに関して"
   ]
  },
  {
   "cell_type": "code",
   "execution_count": 18,
   "id": "7566201f",
   "metadata": {},
   "outputs": [],
   "source": [
    "\n",
    "from sklearn.metrics import roc_curve, auc, average_precision_score, precision_recall_curve\n",
    "\n",
    "import matplotlib.pyplot as plt\n",
    "%matplotlib inline"
   ]
  },
  {
   "cell_type": "code",
   "execution_count": 21,
   "id": "1bcff442",
   "metadata": {},
   "outputs": [
    {
     "name": "stdout",
     "output_type": "stream",
     "text": [
      "AUC =  0.9942838996506828\n"
     ]
    },
    {
     "data": {
      "image/png": "[encoded data removed]",
      "text/plain": [
       "<Figure size 432x288 with 1 Axes>"
      ]
     },
     "metadata": {
      "needs_background": "light"
     },
     "output_type": "display_data"
    }
   ],
   "source": [
    "test_score = clf.decision_function(X_test)\n",
    "fpr , tpr , _ = roc_curve(y_test , test_score)\n",
    "\n",
    "plt.plot(fpr , tpr)\n",
    "print(\"AUC = \" , auc(fpr , tpr))\n",
    "\n",
    "plt.plot([0, 1], [0, 1], linestyle='--')\n",
    "plt.xlim([-0.01, 1.01])\n",
    "plt.ylim([0.0, 1.01])\n",
    "plt.ylabel('True Positive Rate (recall)')\n",
    "plt.xlabel('False Positive Rate (1-specificity)');"
   ]
  },
  {
   "cell_type": "code",
   "execution_count": null,
   "id": "b4074c49",
   "metadata": {},
   "outputs": [],
   "source": []
  },
  {
   "cell_type": "code",
   "execution_count": null,
   "id": "061d11b1",
   "metadata": {},
   "outputs": [],
   "source": []
  },
  {
   "cell_type": "code",
   "execution_count": null,
   "id": "7f375664",
   "metadata": {},
   "outputs": [],
   "source": []
  },
  {
   "cell_type": "code",
   "execution_count": null,
   "id": "c3cf0e4f",
   "metadata": {},
   "outputs": [],
   "source": []
  },
  {
   "cell_type": "code",
   "execution_count": null,
   "id": "fd347c13",
   "metadata": {},
   "outputs": [],
   "source": []
  },
  {
   "cell_type": "code",
   "execution_count": null,
   "id": "53eca7f1",
   "metadata": {},
   "outputs": [],
   "source": []
  },
  {
   "cell_type": "code",
   "execution_count": null,
   "id": "f7e5c06e",
   "metadata": {},
   "outputs": [],
   "source": []
  },
  {
   "cell_type": "code",
   "execution_count": null,
   "id": "8efffa3d",
   "metadata": {},
   "outputs": [],
   "source": []
  },
  {
   "cell_type": "code",
   "execution_count": null,
   "id": "97705e5d",
   "metadata": {},
   "outputs": [],
   "source": []
  },
  {
   "cell_type": "code",
   "execution_count": null,
   "id": "87e45806",
   "metadata": {},
   "outputs": [],
   "source": []
  },
  {
   "cell_type": "code",
   "execution_count": null,
   "id": "a1743c94",
   "metadata": {},
   "outputs": [],
   "source": []
  },
  {
   "cell_type": "code",
   "execution_count": null,
   "id": "4367701a",
   "metadata": {},
   "outputs": [],
   "source": []
  },
  {
   "cell_type": "code",
   "execution_count": null,
   "id": "b5db153b",
   "metadata": {},
   "outputs": [],
   "source": []
  },
  {
   "cell_type": "code",
   "execution_count": null,
   "id": "eda0c09d",
   "metadata": {},
   "outputs": [],
   "source": []
  },
  {
   "cell_type": "code",
   "execution_count": null,
   "id": "6c3083b3",
   "metadata": {},
   "outputs": [],
   "source": []
  },
  {
   "cell_type": "code",
   "execution_count": null,
   "id": "32c62f9c",
   "metadata": {},
   "outputs": [],
   "source": []
  },
  {
   "cell_type": "code",
   "execution_count": null,
   "id": "431f0ce7",
   "metadata": {},
   "outputs": [],
   "source": []
  },
  {
   "cell_type": "code",
   "execution_count": null,
   "id": "92a6ee43",
   "metadata": {},
   "outputs": [],
   "source": []
  },
  {
   "cell_type": "code",
   "execution_count": null,
   "id": "39eccde7",
   "metadata": {},
   "outputs": [],
   "source": []
  },
  {
   "cell_type": "code",
   "execution_count": null,
   "id": "952f46a8",
   "metadata": {},
   "outputs": [],
   "source": []
  },
  {
   "cell_type": "code",
   "execution_count": null,
   "id": "be974faf",
   "metadata": {},
   "outputs": [],
   "source": []
  },
  {
   "cell_type": "code",
   "execution_count": null,
   "id": "865a6197",
   "metadata": {},
   "outputs": [],
   "source": []
  },
  {
   "cell_type": "code",
   "execution_count": null,
   "id": "c008fb21",
   "metadata": {},
   "outputs": [],
   "source": []
  },
  {
   "cell_type": "code",
   "execution_count": null,
   "id": "9ebda74c",
   "metadata": {},
   "outputs": [],
   "source": []
  },
  {
   "cell_type": "code",
   "execution_count": null,
   "id": "5323a10b",
   "metadata": {},
   "outputs": [],
   "source": []
  },
  {
   "cell_type": "code",
   "execution_count": null,
   "id": "f15912b1",
   "metadata": {},
   "outputs": [],
   "source": []
  },
  {
   "cell_type": "code",
   "execution_count": null,
   "id": "082b7739",
   "metadata": {},
   "outputs": [],
   "source": []
  },
  {
   "cell_type": "code",
   "execution_count": null,
   "id": "1345588c",
   "metadata": {},
   "outputs": [],
   "source": []
  },
  {
   "cell_type": "code",
   "execution_count": null,
   "id": "d87bd059",
   "metadata": {},
   "outputs": [],
   "source": []
  },
  {
   "cell_type": "code",
   "execution_count": null,
   "id": "8b2ce08c",
   "metadata": {},
   "outputs": [],
   "source": []
  },
  {
   "cell_type": "code",
   "execution_count": null,
   "id": "2b9f7241",
   "metadata": {},
   "outputs": [],
   "source": []
  },
  {
   "cell_type": "code",
   "execution_count": null,
   "id": "34d15ed8",
   "metadata": {},
   "outputs": [],
   "source": []
  },
  {
   "cell_type": "code",
   "execution_count": null,
   "id": "e3448399",
   "metadata": {},
   "outputs": [],
   "source": []
  },
  {
   "cell_type": "code",
   "execution_count": null,
   "id": "733949c1",
   "metadata": {},
   "outputs": [],
   "source": []
  },
  {
   "cell_type": "code",
   "execution_count": null,
   "id": "cff920b4",
   "metadata": {},
   "outputs": [],
   "source": []
  },
  {
   "cell_type": "code",
   "execution_count": null,
   "id": "b1b0740c",
   "metadata": {},
   "outputs": [],
   "source": []
  },
  {
   "cell_type": "code",
   "execution_count": null,
   "id": "2b33c125",
   "metadata": {},
   "outputs": [],
   "source": []
  },
  {
   "cell_type": "code",
   "execution_count": null,
   "id": "2f48942a",
   "metadata": {},
   "outputs": [],
   "source": []
  },
  {
   "cell_type": "code",
   "execution_count": null,
   "id": "4cb6a073",
   "metadata": {},
   "outputs": [],
   "source": []
  }
 ],
 "metadata": {
  "kernelspec": {
   "display_name": "Python 3 (ipykernel)",
   "language": "python",
   "name": "python3"
  },
  "language_info": {
   "codemirror_mode": {
    "name": "ipython",
    "version": 3
   },
   "file_extension": ".py",
   "mimetype": "text/x-python",
   "name": "python",
   "nbconvert_exporter": "python",
   "pygments_lexer": "ipython3",
   "version": "3.9.10"
  }
 },
 "nbformat": 4,
 "nbformat_minor": 5
}

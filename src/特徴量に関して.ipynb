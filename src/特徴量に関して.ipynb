{
 "cells": [
  {
   "cell_type": "markdown",
   "id": "8f43eb3e",
   "metadata": {},
   "source": [
    "### 特徴量に関して\n",
    "大まかな流れ  \n",
    "データの取得→特徴量抽出→特徴選択→特徴変換→正規化→識別\n",
    "\n",
    "* 欠損値の取り扱いに関して  \n",
    "欠損値があるデータは取り除くかもしくは何かしら穴埋めする必要がある。\n",
    "穴埋めする際は、平均値を代入したり他の特徴量から予測値を代入したりする方法がある。\n",
    "→https://uribo.github.io/practical-ds/03/handling-missing-data.html\n",
    "\n",
    "\n",
    "* 外れ値に関して    \n",
    "外れ値に関してはモデルを学習する際には取り除く事が大切になってくる。    \n",
    "なぜなら外れ値が入っているデータを使用して学習を行うと、正確な予測モデルが作れなくなってしまうから。  \n",
    "しかしながら、どれを外れ値とするのかはデータを見ながら議論が必要になってくる。（飛び抜けて大きな値があったとしてもそれが発生しうるものなのかそれともありえない値なのかによって学習する際のデータに組み込むかを考えなければならない。）  \n",
    "外れ値だからと言って、すぐに取り除くと言う判断は良くない！！  \n",
    "外れ値の取り扱いに関しては以下  \n",
    "https://www.codexa.net/python-outlier/  \n",
    "\n",
    "* テキストデータに関して    \n",
    "テキストデータはそのままではデータとして使用する事が出来ない。    \n",
    "そのため、テキストをベクトル（数値に変換する必要がある。）  \n",
    "CountVectorizer：出現する単語のカウントを特徴量にする手法  \n",
    "TfidfVectorizer:TF（単語の出現頻度）とIDF（単語のレア度）とを掛け合わせた  \n",
    "word2vec:https://ainow.ai/2021/04/08/254071/  \n",
    "\n",
    "* 特徴量の抽出に関して  \n",
    "特徴量が何個がベストなのかはわからないので、特徴量の数を変更しながら確認する必要がある  \n",
    "→特徴量の個数ごとにテストのスコアと標準偏差を出して一番ベストなスコアを出した特徴量の数を選択すると良い。  \n",
    "\n",
    "特徴量同士で相関がある場合はどちらか一方を使用すればよいと言う判断もする事ができる。  \n",
    "\n",
    "SelectKBestを使用して取得する方法がある。  \n",
    "カイ二乗検定はカテゴリカルデータを対象として検定手法  \n",
    "→独立性の検定とも言われている。  \n",
    "→https://best-biostatistics.com/contingency/chi-square.html  \n",
    "\n",
    "SelectKBestに関して  \n",
    "→https://sstudydays.com/python/selectkbest/  \n",
    "→https://aotamasaki.hatenablog.com/entry/2018/04/18/201127  \n",
    "→https://www.dskomei.com/entry/2018/03/20/003752  \n",
    "\n",
    "* 特徴量変換  \n",
    "それぞれの値の組合せ（足したり、引いたり、かけたり、割ったりしたもの）で作成する方法もある  \n",
    "特徴量同士で相関がある場合はどちらか一方を使用すればよいと言う判断もする事ができる。  \n",
    "→もしくはPCA（主成分分析）を使用して次元圧縮を行なって使用する方法もあったりする。  \n",
    "\n",
    "* 正規化/標準化に関して  \n",
    "機械学習のモデルを作成する際には標準化もしくは正規化が必要になってくる。  \n",
    "→なぜなら特徴量によってデータのスケールは違うため、他の特徴量とスケールを合わせるためにも正規化もしくは標準化は必要になってくる。  \n",
    "→https://qiita.com/yShig/items/dbeb98598abcc98e1a57\n",
    "\n",
    "min-maxでの正規化を行う方法もある。(最大値を１最小値を０に変換するやり方)\n",
    "→https://miningoo.com/1032/"
   ]
  },
  {
   "cell_type": "code",
   "execution_count": 76,
   "id": "a83cb820",
   "metadata": {},
   "outputs": [],
   "source": [
    "import pandas as pd"
   ]
  },
  {
   "cell_type": "code",
   "execution_count": 2,
   "id": "882fea06",
   "metadata": {},
   "outputs": [],
   "source": [
    "# テキストからデータを取得する\n",
    "data = np.loadtxt(\"2D_example_dame.csv\" , delimiter=\",\")"
   ]
  },
  {
   "cell_type": "code",
   "execution_count": 4,
   "id": "3c44fb42",
   "metadata": {},
   "outputs": [
    {
     "data": {
      "text/plain": [
       "array([1, 0, 0, 1, 1, 1, 0, 1, 1, 0, 1, 0, 0, 1, 0, 1, 0, 0, 1, 0])"
      ]
     },
     "execution_count": 4,
     "metadata": {},
     "output_type": "execute_result"
    }
   ],
   "source": [
    "y = data[: , 0].astype(int)\n",
    "y"
   ]
  },
  {
   "cell_type": "code",
   "execution_count": 6,
   "id": "cbe9b060",
   "metadata": {},
   "outputs": [
    {
     "data": {
      "text/plain": [
       "array([[-7.428476e+00,  1.509903e+00],\n",
       "       [ 2.980693e+00,  1.960821e+00],\n",
       "       [ 3.988255e+00,  4.636389e+00],\n",
       "       [-5.789437e+00, -4.621614e+00],\n",
       "       [-4.894447e+00, -3.269730e+02],\n",
       "       [-1.933949e+00, -4.727600e-02],\n",
       "       [-1.611771e+00,  5.932201e+00],\n",
       "       [-6.670152e+00, -1.036282e+00],\n",
       "       [-2.931415e+02, -1.044750e-01],\n",
       "       [-7.476200e-02,  1.070002e+00],\n",
       "       [-2.691793e+00,  4.168774e+00],\n",
       "       [ 4.611820e-01,  3.453438e+00],\n",
       "       [-1.354135e+00,  3.751657e+00],\n",
       "       [-6.229476e+00, -1.209434e+00],\n",
       "       [ 2.778594e+00,           nan],\n",
       "       [-5.719578e+00, -2.435090e-01],\n",
       "       [ 9.283220e-01,  3.208520e+00],\n",
       "       [ 8.504750e-01,  2.908955e+00],\n",
       "       [          nan, -1.831199e+00],\n",
       "       [ 1.116025e+00,  3.353602e+00]])"
      ]
     },
     "execution_count": 6,
     "metadata": {},
     "output_type": "execute_result"
    }
   ],
   "source": [
    "X = data[:,1:3].astype(float)\n",
    "X\n",
    "\"\"\"\n",
    "memo\n",
    "以下のデータを見ると欠損値が存在しているのがわかる。\n",
    "\"\"\""
   ]
  },
  {
   "cell_type": "code",
   "execution_count": 10,
   "id": "989f08df",
   "metadata": {},
   "outputs": [
    {
     "data": {
      "image/png": "[encoded data removed]",
      "text/plain": [
       "<Figure size 432x288 with 1 Axes>"
      ]
     },
     "metadata": {
      "needs_background": "light"
     },
     "output_type": "display_data"
    }
   ],
   "source": [
    "# matplotlibの表示に関しては以下のサイトを参照\n",
    "# https://qiita.com/nkay/items/d1eb91e33b9d6469ef51#32-%E6%95%A3%E5%B8%83%E5%9B%B3axesscatter\n",
    "import matplotlib.pyplot as plt\n",
    "plt.scatter(X[:,0],X[:,1] ,c=y )\n",
    "plt.show()\n",
    "\n",
    "\"\"\"\n",
    "memo\n",
    "以下プロットした結果を確認してみると、黄色の二つの値で外れ値になっていそうな値が存在するのがわかる。\n",
    "\"\"\""
   ]
  },
  {
   "cell_type": "code",
   "execution_count": 19,
   "id": "3ac1119f",
   "metadata": {},
   "outputs": [
    {
     "data": {
      "text/plain": [
       "array([ True,  True,  True,  True,  True,  True,  True,  True,  True,\n",
       "        True,  True,  True,  True,  True,  True,  True,  True,  True,\n",
       "       False,  True])"
      ]
     },
     "execution_count": 19,
     "metadata": {},
     "output_type": "execute_result"
    }
   ],
   "source": [
    "# 欠損値の確認\n",
    "np.isnan(X[:,0])# nanのところがTrueになる"
   ]
  },
  {
   "cell_type": "code",
   "execution_count": 20,
   "id": "3527355b",
   "metadata": {},
   "outputs": [
    {
     "data": {
      "text/plain": [
       "array([ True,  True,  True,  True,  True,  True,  True,  True,  True,\n",
       "        True,  True,  True,  True,  True,  True,  True,  True,  True,\n",
       "       False,  True])"
      ]
     },
     "execution_count": 20,
     "metadata": {},
     "output_type": "execute_result"
    }
   ],
   "source": [
    "~np.isnan(X[:,0]) # nanのところがFalseになる"
   ]
  },
  {
   "cell_type": "code",
   "execution_count": 21,
   "id": "91648428",
   "metadata": {},
   "outputs": [
    {
     "data": {
      "text/plain": [
       "array([ True,  True,  True,  True,  True,  True,  True,  True,  True,\n",
       "        True,  True,  True,  True,  True, False,  True,  True,  True,\n",
       "        True,  True])"
      ]
     },
     "execution_count": 21,
     "metadata": {},
     "output_type": "execute_result"
    }
   ],
   "source": [
    "~np.isnan(X[:,1]) # nanのところがFalseになる"
   ]
  },
  {
   "cell_type": "code",
   "execution_count": 23,
   "id": "3dbdeaef",
   "metadata": {},
   "outputs": [
    {
     "data": {
      "text/plain": [
       "array([ True,  True,  True,  True,  True,  True,  True,  True,  True,\n",
       "        True,  True,  True,  True,  True, False,  True,  True,  True,\n",
       "       False,  True])"
      ]
     },
     "execution_count": 23,
     "metadata": {},
     "output_type": "execute_result"
    }
   ],
   "source": [
    "# 特徴量が両方ともTrueのところを取得する\n",
    "~np.isnan(X[:,0])  & ~np.isnan(X[:,1])"
   ]
  },
  {
   "cell_type": "code",
   "execution_count": 28,
   "id": "b709e80d",
   "metadata": {},
   "outputs": [],
   "source": [
    "# 欠損値を排除\n",
    "X1 = X[~np.isnan(X[:,0])  & ~np.isnan(X[:,1])]\n",
    "y1 = y[~np.isnan(X[:,0])  & ~np.isnan(X[:,1])]"
   ]
  },
  {
   "cell_type": "code",
   "execution_count": 31,
   "id": "1e3c3385",
   "metadata": {},
   "outputs": [
    {
     "name": "stdout",
     "output_type": "stream",
     "text": [
      "(18, 2)\n",
      "(18,)\n"
     ]
    }
   ],
   "source": [
    "print(X1.shape)\n",
    "print(y1.shape)"
   ]
  },
  {
   "cell_type": "code",
   "execution_count": 37,
   "id": "5e8937f5",
   "metadata": {},
   "outputs": [],
   "source": [
    "# 外れ値の削除(+/−10より大きいものは排除)\n",
    "X2 = X1[(abs(X1[:,0])<10) & (abs(X1[:,1])<10)]\n",
    "y2 = y1[(abs(X1[:,0])<10) & (abs(X1[:,1])<10)]"
   ]
  },
  {
   "cell_type": "code",
   "execution_count": 38,
   "id": "b81b4856",
   "metadata": {},
   "outputs": [
    {
     "name": "stdout",
     "output_type": "stream",
     "text": [
      "(16, 2)\n",
      "(16,)\n"
     ]
    }
   ],
   "source": [
    "print(X2.shape)\n",
    "print(y2.shape)"
   ]
  },
  {
   "cell_type": "code",
   "execution_count": 43,
   "id": "1d8a39cd",
   "metadata": {},
   "outputs": [
    {
     "data": {
      "image/png": "[encoded data removed]",
      "text/plain": [
       "<Figure size 432x288 with 1 Axes>"
      ]
     },
     "metadata": {
      "needs_background": "light"
     },
     "output_type": "display_data"
    }
   ],
   "source": [
    "# 欠損値と外れ値を排除したデータを確認してみる。\n",
    "plt.scatter(X2[:,0],X2[:,1] ,c=y2 )\n",
    "plt.show()"
   ]
  },
  {
   "cell_type": "code",
   "execution_count": null,
   "id": "1ca3be52",
   "metadata": {},
   "outputs": [],
   "source": [
    "\n"
   ]
  },
  {
   "cell_type": "markdown",
   "id": "4a8df690",
   "metadata": {},
   "source": [
    "## テキストデータの取り扱い"
   ]
  },
  {
   "cell_type": "code",
   "execution_count": 44,
   "id": "def29c85",
   "metadata": {},
   "outputs": [
    {
     "data": {
      "text/plain": [
       "('allice.txt', <http.client.HTTPMessage at 0x11b321f10>)"
      ]
     },
     "execution_count": 44,
     "metadata": {},
     "output_type": "execute_result"
    }
   ],
   "source": [
    "import urllib.request\n",
    "# データのダウンロード\n",
    "urllib.request.urlretrieve(\"http://www.gutenberg.org/files/11/11-0.txt\", \"allice.txt\")"
   ]
  },
  {
   "cell_type": "code",
   "execution_count": 45,
   "id": "6c15d7a0",
   "metadata": {},
   "outputs": [
    {
     "name": "stdout",
     "output_type": "stream",
     "text": [
      "coding: UTF-8\n",
      "\n",
      "Produced by: Arthur DiBianca and David Widger\n",
      "\n",
      "*** START OF THE PROJECT GUTENBERG EBOOK ALICE’S ADVENTURES IN WONDERLAND ***\n",
      "\n",
      "[Illustration]\n",
      "\n",
      "\n",
      "\n",
      "\n",
      "Alice’s Adventures in Wonderland\n",
      "\n",
      "by Lewis Carroll\n",
      "\n",
      "THE MILLENNIUM FULCRUM EDITION 3.0\n",
      "\n",
      "Contents\n",
      "\n",
      " CHAPTER I.     Down the Rabbit-Hole\n",
      " CHAPTER II.    The Pool of Tears\n",
      " CHAPTER III.   A Caucus-Race and a Long Tale\n",
      " CHAPTER IV.    The Rabbit Sends in a Little Bill\n",
      " CHAPTER V.     Advice from a Caterpillar\n",
      " CHAPTER VI.    Pig and Pepper\n",
      " CHAPTER VII.   A Mad Tea-Party\n",
      " CHAPTER VIII.  The Queen’s Croquet-Ground\n",
      " CHAPTER IX.    The Mock Turtle’s Story\n",
      " CHAPTER X.     The Lobster Quadrille\n",
      " CHAPTER XI.    Who Stole the Tarts?\n",
      " C\n"
     ]
    }
   ],
   "source": [
    "with open('allice.txt', 'r', encoding='UTF-8') as f:\n",
    "    print(f.read()[710:1400])"
   ]
  },
  {
   "cell_type": "code",
   "execution_count": 46,
   "id": "9785755a",
   "metadata": {},
   "outputs": [],
   "source": [
    "# CountVectorizerの実装\n",
    "from sklearn.feature_extraction.text import CountVectorizer\n",
    "txt_vec = CountVectorizer(input=\"filename\")"
   ]
  },
  {
   "cell_type": "code",
   "execution_count": 47,
   "id": "27844c29",
   "metadata": {},
   "outputs": [
    {
     "data": {
      "text/plain": [
       "CountVectorizer(input='filename')"
      ]
     },
     "execution_count": 47,
     "metadata": {},
     "output_type": "execute_result"
    }
   ],
   "source": [
    "txt_vec.fit([\"allice.txt\"])"
   ]
  },
  {
   "cell_type": "code",
   "execution_count": 52,
   "id": "56bd8aab",
   "metadata": {},
   "outputs": [
    {
     "data": {
      "text/plain": [
       "['_two_',\n",
       " '_un_important',\n",
       " '_very_',\n",
       " '_was_',\n",
       " '_we',\n",
       " '_what',\n",
       " '_what_',\n",
       " '_whatever',\n",
       " '_will_',\n",
       " '_with',\n",
       " '_would_',\n",
       " '_yet_',\n",
       " '_you',\n",
       " '_you_',\n",
       " '_your_',\n",
       " '_yours_',\n",
       " 'abide',\n",
       " 'able',\n",
       " 'about',\n",
       " 'above']"
      ]
     },
     "execution_count": 52,
     "metadata": {},
     "output_type": "execute_result"
    }
   ],
   "source": [
    "txt_vec.get_feature_names()[100:120]"
   ]
  },
  {
   "cell_type": "code",
   "execution_count": 50,
   "id": "2eb1c3f5",
   "metadata": {},
   "outputs": [
    {
     "data": {
      "text/plain": [
       "3122"
      ]
     },
     "execution_count": 50,
     "metadata": {},
     "output_type": "execute_result"
    }
   ],
   "source": [
    "# 単語の数の確認\n",
    "len(txt_vec.get_feature_names())"
   ]
  },
  {
   "cell_type": "code",
   "execution_count": 54,
   "id": "9246ecf7",
   "metadata": {},
   "outputs": [
    {
     "data": {
      "text/plain": [
       "<1x3122 sparse matrix of type '<class 'numpy.int64'>'\n",
       "\twith 3122 stored elements in Compressed Sparse Row format>"
      ]
     },
     "execution_count": 54,
     "metadata": {},
     "output_type": "execute_result"
    }
   ],
   "source": [
    "# ベクトル化\n",
    "allice_vec = txt_vec.transform([\"allice.txt\"])\n",
    "# ３１２２次元のスパース行列になっている。\n",
    "allice_vec "
   ]
  },
  {
   "cell_type": "code",
   "execution_count": 55,
   "id": "c7baa64c",
   "metadata": {},
   "outputs": [
    {
     "data": {
      "text/plain": [
       "(1, 3122)"
      ]
     },
     "execution_count": 55,
     "metadata": {},
     "output_type": "execute_result"
    }
   ],
   "source": [
    "allice_vec.shape"
   ]
  },
  {
   "cell_type": "code",
   "execution_count": 62,
   "id": "96d42821",
   "metadata": {},
   "outputs": [
    {
     "name": "stdout",
     "output_type": "stream",
     "text": [
      "altogether   (0, 0)\t5\n",
      "  (0, 1)\t13\n",
      "  (0, 2)\t16\n",
      "  (0, 3)\t1\n",
      "  (0, 4)\t12\n",
      "  (0, 5)\t62\n",
      "  (0, 6)\t1\n",
      "  (0, 7)\t941\n",
      "  (0, 8)\t2\n",
      "  (0, 9)\t9\n",
      "  (0, 10)\t5\n",
      "  (0, 11)\t2\n",
      "  (0, 12)\t4\n",
      "  (0, 13)\t4\n",
      "  (0, 14)\t1\n",
      "  (0, 15)\t1\n",
      "  (0, 16)\t22\n",
      "  (0, 17)\t9\n",
      "  (0, 18)\t4\n",
      "  (0, 19)\t1\n"
     ]
    }
   ],
   "source": [
    "for word,count in zip(txt_vec.get_feature_names()[200:220], allice_vec[0, 200:220]):\n",
    "    print(word, count)"
   ]
  },
  {
   "cell_type": "code",
   "execution_count": 74,
   "id": "40c1c299",
   "metadata": {},
   "outputs": [],
   "source": [
    "# TF/IDFの実装\n",
    "from sklearn.feature_extraction.text import TfidfVectorizer\n",
    "# TfidfVectorizer\n",
    "vec_tfidf = TfidfVectorizer()\n",
    "sample = np.array(['Apple computer of the apple mark', 'linux computer', 'windows computer'])\n",
    "X = vec_tfidf.fit_transform(sample)\n"
   ]
  },
  {
   "cell_type": "code",
   "execution_count": 77,
   "id": "56edc44a",
   "metadata": {},
   "outputs": [
    {
     "data": {
      "text/html": [
       "<div>\n",
       "<style scoped>\n",
       "    .dataframe tbody tr th:only-of-type {\n",
       "        vertical-align: middle;\n",
       "    }\n",
       "\n",
       "    .dataframe tbody tr th {\n",
       "        vertical-align: top;\n",
       "    }\n",
       "\n",
       "    .dataframe thead th {\n",
       "        text-align: right;\n",
       "    }\n",
       "</style>\n",
       "<table border=\"1\" class=\"dataframe\">\n",
       "  <thead>\n",
       "    <tr style=\"text-align: right;\">\n",
       "      <th></th>\n",
       "      <th>apple</th>\n",
       "      <th>computer</th>\n",
       "      <th>linux</th>\n",
       "      <th>mark</th>\n",
       "      <th>of</th>\n",
       "      <th>the</th>\n",
       "      <th>windows</th>\n",
       "    </tr>\n",
       "  </thead>\n",
       "  <tbody>\n",
       "    <tr>\n",
       "      <th>0</th>\n",
       "      <td>0.73777</td>\n",
       "      <td>0.217869</td>\n",
       "      <td>0.000000</td>\n",
       "      <td>0.368885</td>\n",
       "      <td>0.368885</td>\n",
       "      <td>0.368885</td>\n",
       "      <td>0.000000</td>\n",
       "    </tr>\n",
       "    <tr>\n",
       "      <th>1</th>\n",
       "      <td>0.00000</td>\n",
       "      <td>0.508542</td>\n",
       "      <td>0.861037</td>\n",
       "      <td>0.000000</td>\n",
       "      <td>0.000000</td>\n",
       "      <td>0.000000</td>\n",
       "      <td>0.000000</td>\n",
       "    </tr>\n",
       "    <tr>\n",
       "      <th>2</th>\n",
       "      <td>0.00000</td>\n",
       "      <td>0.508542</td>\n",
       "      <td>0.000000</td>\n",
       "      <td>0.000000</td>\n",
       "      <td>0.000000</td>\n",
       "      <td>0.000000</td>\n",
       "      <td>0.861037</td>\n",
       "    </tr>\n",
       "  </tbody>\n",
       "</table>\n",
       "</div>"
      ],
      "text/plain": [
       "     apple  computer     linux      mark        of       the   windows\n",
       "0  0.73777  0.217869  0.000000  0.368885  0.368885  0.368885  0.000000\n",
       "1  0.00000  0.508542  0.861037  0.000000  0.000000  0.000000  0.000000\n",
       "2  0.00000  0.508542  0.000000  0.000000  0.000000  0.000000  0.861037"
      ]
     },
     "execution_count": 77,
     "metadata": {},
     "output_type": "execute_result"
    }
   ],
   "source": [
    "pd.DataFrame(X.toarray(), columns=vec_tfidf.get_feature_names())"
   ]
  },
  {
   "cell_type": "code",
   "execution_count": null,
   "id": "74a18575",
   "metadata": {},
   "outputs": [],
   "source": []
  },
  {
   "cell_type": "markdown",
   "id": "62503acd",
   "metadata": {},
   "source": [
    "## 画像データに関して"
   ]
  },
  {
   "cell_type": "markdown",
   "id": "5a2bfa5b",
   "metadata": {},
   "source": []
  },
  {
   "cell_type": "code",
   "execution_count": 78,
   "id": "a646c066",
   "metadata": {},
   "outputs": [],
   "source": [
    "from sklearn.datasets import load_sample_image\n",
    "china = load_sample_image(\"china.jpg\")"
   ]
  },
  {
   "cell_type": "code",
   "execution_count": 79,
   "id": "d439f716",
   "metadata": {},
   "outputs": [
    {
     "data": {
      "text/plain": [
       "<matplotlib.image.AxesImage at 0x10595c1f0>"
      ]
     },
     "execution_count": 79,
     "metadata": {},
     "output_type": "execute_result"
    },
    {
     "data": {
      "image/png": "[encoded data removed]",
      "text/plain": [
       "<Figure size 432x288 with 1 Axes>"
      ]
     },
     "metadata": {
      "needs_background": "light"
     },
     "output_type": "display_data"
    }
   ],
   "source": [
    "plt.imshow(china)"
   ]
  },
  {
   "cell_type": "code",
   "execution_count": 80,
   "id": "29820ffa",
   "metadata": {},
   "outputs": [
    {
     "data": {
      "text/plain": [
       "(427, 640, 3)"
      ]
     },
     "execution_count": 80,
     "metadata": {},
     "output_type": "execute_result"
    }
   ],
   "source": [
    "china.shape"
   ]
  },
  {
   "cell_type": "code",
   "execution_count": null,
   "id": "02f75907",
   "metadata": {},
   "outputs": [],
   "source": []
  },
  {
   "cell_type": "markdown",
   "id": "d7590fa7",
   "metadata": {},
   "source": [
    "### 特徴量の抽出に関して\n"
   ]
  },
  {
   "cell_type": "code",
   "execution_count": 81,
   "id": "e2e8273a",
   "metadata": {},
   "outputs": [],
   "source": [
    "import numpy as np\n",
    "from sklearn.model_selection import ShuffleSplit\n",
    "from sklearn.datasets import load_breast_cancer\n",
    "\n",
    "data = load_breast_cancer()\n",
    "\n",
    "X = data.data\n",
    "y = data.target\n",
    "\n",
    "\n",
    "ss = ShuffleSplit(n_splits=1, \n",
    "                  train_size=0.8, \n",
    "                  test_size=0.2, \n",
    "                  random_state=0)\n",
    "\n",
    "train_index, test_index = next(ss.split(X, y))\n",
    "\n",
    "X_train, X_test = X[train_index], X[test_index]\n",
    "y_train, y_test = y[train_index], y[test_index]"
   ]
  },
  {
   "cell_type": "code",
   "execution_count": 82,
   "id": "f6bbda42",
   "metadata": {},
   "outputs": [
    {
     "data": {
      "text/plain": [
       "array(['mean radius', 'mean texture', 'mean perimeter', 'mean area',\n",
       "       'mean smoothness', 'mean compactness', 'mean concavity',\n",
       "       'mean concave points', 'mean symmetry', 'mean fractal dimension',\n",
       "       'radius error', 'texture error', 'perimeter error', 'area error',\n",
       "       'smoothness error', 'compactness error', 'concavity error',\n",
       "       'concave points error', 'symmetry error',\n",
       "       'fractal dimension error', 'worst radius', 'worst texture',\n",
       "       'worst perimeter', 'worst area', 'worst smoothness',\n",
       "       'worst compactness', 'worst concavity', 'worst concave points',\n",
       "       'worst symmetry', 'worst fractal dimension'], dtype='<U23')"
      ]
     },
     "execution_count": 82,
     "metadata": {},
     "output_type": "execute_result"
    }
   ],
   "source": [
    "data.feature_names"
   ]
  },
  {
   "cell_type": "code",
   "execution_count": 83,
   "id": "71a6aaa5",
   "metadata": {},
   "outputs": [],
   "source": [
    "from sklearn.feature_selection import SelectKBest\n",
    "from sklearn.feature_selection import chi2\n",
    "# カイ二乗検定を使用した変数選択(20個選択)\n",
    "skb = SelectKBest(chi2 , k=20)"
   ]
  },
  {
   "cell_type": "code",
   "execution_count": 84,
   "id": "1d883cc4",
   "metadata": {},
   "outputs": [
    {
     "data": {
      "text/plain": [
       "SelectKBest(k=20, score_func=<function chi2 at 0x11b2400d0>)"
      ]
     },
     "execution_count": 84,
     "metadata": {},
     "output_type": "execute_result"
    }
   ],
   "source": [
    "skb.fit(X_train , y_train)"
   ]
  },
  {
   "cell_type": "code",
   "execution_count": 87,
   "id": "b38f579a",
   "metadata": {},
   "outputs": [
    {
     "name": "stdout",
     "output_type": "stream",
     "text": [
      "(455, 20)\n"
     ]
    }
   ],
   "source": [
    "# 20個の特徴量を取得\n",
    "X_train_new = skb.transform(X_train)\n",
    "print(X_train_new.shape)"
   ]
  },
  {
   "cell_type": "code",
   "execution_count": 89,
   "id": "7fefce88",
   "metadata": {},
   "outputs": [
    {
     "data": {
      "text/plain": [
       "array(['mean radius', 'mean texture', 'mean perimeter', 'mean area',\n",
       "       'mean compactness', 'mean concavity', 'mean concave points',\n",
       "       'radius error', 'perimeter error', 'area error',\n",
       "       'compactness error', 'concavity error', 'worst radius',\n",
       "       'worst texture', 'worst perimeter', 'worst area',\n",
       "       'worst compactness', 'worst concavity', 'worst concave points',\n",
       "       'worst symmetry'], dtype='<U23')"
      ]
     },
     "execution_count": 89,
     "metadata": {},
     "output_type": "execute_result"
    }
   ],
   "source": [
    "# どの特徴量が使用されたのか確認\n",
    "skb.get_support()\n",
    "data.feature_names[skb.get_support()]"
   ]
  },
  {
   "cell_type": "code",
   "execution_count": 91,
   "id": "c520c1dd",
   "metadata": {},
   "outputs": [],
   "source": [
    "# 特徴量が何個がベストなのかを実際に計算しても止めてみる。\n",
    "from sklearn.model_selection import StratifiedKFold\n",
    "from sklearn import linear_model\n",
    "clf = linear_model.LogisticRegression(solver='liblinear')\n",
    "k_range = np.arange(1, 31)\n",
    "scores = []\n",
    "std = []\n",
    "\n",
    "for k in k_range:\n",
    "    # 特徴量の数ごとのループ処理\n",
    "\n",
    "    ss = StratifiedKFold(n_splits=10, \n",
    "                         shuffle=True, \n",
    "                         random_state=2)\n",
    "    score = []\n",
    "    for train_index, val_index in ss.split(X_train,\n",
    "                                           y_train):\n",
    "        # k分割交差検証のループ処理\n",
    "\n",
    "        X_train2, X_val = X[train_index], X[val_index]\n",
    "        y_train2, y_val = y[train_index], y[val_index]\n",
    "\n",
    "        skb = SelectKBest(chi2, k=k)\n",
    "        skb.fit(X_train2, y_train2)\n",
    "        \n",
    "        X_new_train2 = skb.transform(X_train2)\n",
    "        X_new_val    = skb.transform(X_val)\n",
    "        \n",
    "        clf.fit(X_new_train2, y_train2)\n",
    "        score.append( clf.score(X_new_val, y_val) )\n",
    "\n",
    "    scores.append( np.array(score).mean() )\n",
    "    std.append( np.array(score).std() )\n",
    "    \n",
    "scores = np.array(scores)\n",
    "std = np.array(std)"
   ]
  },
  {
   "cell_type": "code",
   "execution_count": 92,
   "id": "99d5530f",
   "metadata": {},
   "outputs": [
    {
     "data": {
      "text/plain": [
       "Text(0, 0.5, 'accuracy')"
      ]
     },
     "execution_count": 92,
     "metadata": {},
     "output_type": "execute_result"
    },
    {
     "data": {
      "image/png": "[encoded data removed]",
      "text/plain": [
       "<Figure size 432x288 with 1 Axes>"
      ]
     },
     "metadata": {
      "needs_background": "light"
     },
     "output_type": "display_data"
    }
   ],
   "source": [
    "import matplotlib.pyplot as plt\n",
    "%matplotlib inline \n",
    "\n",
    "plt.plot(k_range, scores)\n",
    "plt.errorbar(k_range, scores, yerr=std)\n",
    "plt.ylabel(\"accuracy\")"
   ]
  },
  {
   "cell_type": "code",
   "execution_count": 95,
   "id": "6474ea96",
   "metadata": {},
   "outputs": [
    {
     "name": "stdout",
     "output_type": "stream",
     "text": [
      "19\n"
     ]
    },
    {
     "data": {
      "text/plain": [
       "'\\nいかにより今回は１９個の変数がベストであると判断する事ができる。\\n'"
      ]
     },
     "execution_count": 95,
     "metadata": {},
     "output_type": "execute_result"
    }
   ],
   "source": [
    "# bestなスコアの変数の数\n",
    "best_k = k_range[np.argmax(scores)]\n",
    "print(best_k)\n",
    "\"\"\"\n",
    "いかにより今回は１９個の変数がベストであると判断する事ができる。\n",
    "\"\"\""
   ]
  },
  {
   "cell_type": "code",
   "execution_count": null,
   "id": "02fb6811",
   "metadata": {},
   "outputs": [],
   "source": []
  },
  {
   "cell_type": "markdown",
   "id": "79496f8d",
   "metadata": {},
   "source": [
    "## 次元圧縮に関して\n",
    "\n"
   ]
  },
  {
   "cell_type": "code",
   "execution_count": 98,
   "id": "8bef4422",
   "metadata": {},
   "outputs": [],
   "source": [
    "from pandas.plotting import scatter_matrix\n",
    "from sklearn.decomposition import PCA\n"
   ]
  },
  {
   "cell_type": "code",
   "execution_count": 99,
   "id": "14073a92",
   "metadata": {},
   "outputs": [
    {
     "data": {
      "image/png": "[encoded data removed]",
      "text/plain": [
       "<Figure size 216x216 with 4 Axes>"
      ]
     },
     "metadata": {
      "needs_background": "light"
     },
     "output_type": "display_data"
    }
   ],
   "source": [
    "data = load_breast_cancer()\n",
    "df = pd.DataFrame(data.data[:, [0,2]],\n",
    "                  columns=data.feature_names[[0,2]])\n",
    "scatter_matrix(df, figsize=(3,3));\n",
    "\"\"\"\n",
    "下のデータを確認すると二つの特徴量に相関がある事がわかる→次元圧縮する。\n",
    "\"\"\""
   ]
  },
  {
   "cell_type": "code",
   "execution_count": 100,
   "id": "4c167983",
   "metadata": {},
   "outputs": [],
   "source": [
    "X = data.data[:, [0,2]]\n",
    "y = data.target\n",
    "names = data.feature_names[[0,2]]"
   ]
  },
  {
   "cell_type": "code",
   "execution_count": 102,
   "id": "31846e48",
   "metadata": {},
   "outputs": [
    {
     "data": {
      "text/plain": [
       "Text(0, 0.5, 'mean perimeter')"
      ]
     },
     "execution_count": 102,
     "metadata": {},
     "output_type": "execute_result"
    },
    {
     "data": {
      "image/png": "[encoded data removed]",
      "text/plain": [
       "<Figure size 432x288 with 1 Axes>"
      ]
     },
     "metadata": {
      "needs_background": "light"
     },
     "output_type": "display_data"
    }
   ],
   "source": [
    "# 変換する前のデータ\n",
    "plt.scatter(X[:, 0], X[:, 1])\n",
    "plt.xlim(0, 180)\n",
    "plt.ylim(20, 200)\n",
    "plt.xlabel(names[0])\n",
    "plt.ylabel(names[1])"
   ]
  },
  {
   "cell_type": "code",
   "execution_count": 103,
   "id": "41538e2f",
   "metadata": {},
   "outputs": [],
   "source": [
    "pca = PCA()\n",
    "pca.fit(X)\n",
    "X_new = pca.transform(X)"
   ]
  },
  {
   "cell_type": "code",
   "execution_count": 104,
   "id": "731efb2e",
   "metadata": {},
   "outputs": [
    {
     "data": {
      "text/plain": [
       "(-60.0, 120.0)"
      ]
     },
     "execution_count": 104,
     "metadata": {},
     "output_type": "execute_result"
    },
    {
     "data": {
      "image/png": "[encoded data removed]",
      "text/plain": [
       "<Figure size 432x288 with 1 Axes>"
      ]
     },
     "metadata": {
      "needs_background": "light"
     },
     "output_type": "display_data"
    }
   ],
   "source": [
    "# 変換後のデータ\n",
    "plt.scatter(X_new[:, 0], X_new[:, 1])\n",
    "plt.ylim(-60, 120)"
   ]
  },
  {
   "cell_type": "code",
   "execution_count": null,
   "id": "5775e8ef",
   "metadata": {},
   "outputs": [],
   "source": []
  },
  {
   "cell_type": "markdown",
   "id": "71e20175",
   "metadata": {},
   "source": [
    "## 標準化\n"
   ]
  },
  {
   "cell_type": "code",
   "execution_count": 108,
   "id": "1d70cc26",
   "metadata": {},
   "outputs": [],
   "source": [
    "data = load_breast_cancer()\n",
    "X = data.data\n",
    "y = data.target\n",
    "\n",
    "from sklearn.model_selection import ShuffleSplit\n",
    "\n",
    "ss = ShuffleSplit(n_splits=1, \n",
    "                  train_size=0.8, \n",
    "                  test_size=0.2, \n",
    "                  random_state=0)\n",
    "\n",
    "train_index, test_index = next(ss.split(X, y))\n",
    "\n",
    "X_train, X_test = X[train_index], X[test_index]\n",
    "y_train, y_test = y[train_index], y[test_index]"
   ]
  },
  {
   "cell_type": "code",
   "execution_count": 109,
   "id": "58674d63",
   "metadata": {},
   "outputs": [],
   "source": [
    "# 標準化を行う\n",
    "from sklearn.preprocessing import StandardScaler\n",
    "scaler = StandardScaler()"
   ]
  },
  {
   "cell_type": "code",
   "execution_count": 110,
   "id": "7209f78a",
   "metadata": {},
   "outputs": [
    {
     "data": {
      "text/plain": [
       "StandardScaler()"
      ]
     },
     "execution_count": 110,
     "metadata": {},
     "output_type": "execute_result"
    }
   ],
   "source": [
    "scaler.fit(X_train)"
   ]
  },
  {
   "cell_type": "code",
   "execution_count": 111,
   "id": "68bea807",
   "metadata": {},
   "outputs": [],
   "source": [
    "# 標準化したデータに変換\n",
    "X_train_scale = scaler.transform(X_train)"
   ]
  },
  {
   "cell_type": "code",
   "execution_count": 113,
   "id": "52beb6db",
   "metadata": {},
   "outputs": [
    {
     "name": "stdout",
     "output_type": "stream",
     "text": [
      "平均値\n",
      "2.9150471210670777e-17\n",
      "分散\n",
      "1.0\n"
     ]
    }
   ],
   "source": [
    "# 標準化なので平均０、分散１になっているか確認する。\n",
    "print(\"平均値\")\n",
    "print(X_train_scale.mean())\n",
    "print(\"分散\")\n",
    "print(X_train_scale.std())"
   ]
  },
  {
   "cell_type": "code",
   "execution_count": null,
   "id": "9ed75496",
   "metadata": {},
   "outputs": [],
   "source": []
  },
  {
   "cell_type": "code",
   "execution_count": null,
   "id": "fb0283dd",
   "metadata": {},
   "outputs": [],
   "source": []
  },
  {
   "cell_type": "code",
   "execution_count": null,
   "id": "ebe1be8d",
   "metadata": {},
   "outputs": [],
   "source": []
  },
  {
   "cell_type": "code",
   "execution_count": null,
   "id": "93b2611f",
   "metadata": {},
   "outputs": [],
   "source": []
  },
  {
   "cell_type": "code",
   "execution_count": null,
   "id": "ec19ca3a",
   "metadata": {},
   "outputs": [],
   "source": []
  },
  {
   "cell_type": "code",
   "execution_count": null,
   "id": "1d501f08",
   "metadata": {},
   "outputs": [],
   "source": []
  }
 ],
 "metadata": {
  "kernelspec": {
   "display_name": "Python 3 (ipykernel)",
   "language": "python",
   "name": "python3"
  },
  "language_info": {
   "codemirror_mode": {
    "name": "ipython",
    "version": 3
   },
   "file_extension": ".py",
   "mimetype": "text/x-python",
   "name": "python",
   "nbconvert_exporter": "python",
   "pygments_lexer": "ipython3",
   "version": "3.9.10"
  }
 },
 "nbformat": 4,
 "nbformat_minor": 5
}
